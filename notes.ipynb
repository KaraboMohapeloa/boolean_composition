{
 "cells": [
  {
   "cell_type": "markdown",
   "id": "5cadf340",
   "metadata": {},
   "source": [
    "# Experiment Notes – 09/08/2025\n",
    "\n",
    "## Focus\n",
    "We are working on **Experiment 1** from the *4 Rooms* experiment.\n",
    "**Plot 2** fn creates the cum_bar.pdf plot which will give us the baseline.\n",
    "\n",
    "---\n",
    "\n",
    "## Plan\n",
    "\n",
    "1. **Recreate Original Results**  \n",
    "   - Replicate the original experiment.  \n",
    "   - Interpret the results to establish a **benchmark**.\n",
    "\n",
    "2. **Modify `goal_oriented_learning` Implementation**  \n",
    "   We will replace the existing `goal_oriented_learning` function with alternative implementations:\n",
    "\n",
    "   - **Implementation 1:**  \n",
    "     - Use a **Bootstrapped DQN** exploration strategy.\n",
    "\n",
    "   - **Implementation 2:**  \n",
    "     - Use **MNF DQN** (Multiplicative Normalizing Flow) for exploration.\n",
    "\n",
    "---\n",
    "\n",
    "## Expected Outcome\n",
    "- Compare the performance of the new exploration strategies against the benchmark.\n",
    "- Determine whether Bootstrapped DQN or MNF DQN yields better results in the 4 Rooms setup.\n",
    "\n",
    "Try softmax\n"
   ]
  }
 ],
 "metadata": {
  "language_info": {
   "name": "python"
  }
 },
 "nbformat": 4,
 "nbformat_minor": 5
}
